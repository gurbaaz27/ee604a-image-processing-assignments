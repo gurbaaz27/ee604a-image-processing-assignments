{
 "cells": [
  {
   "cell_type": "markdown",
   "id": "a8a7e83a",
   "metadata": {},
   "source": [
    "# Assignment 1\n",
    "## Q3 Cyclone: cycloneanalyzer.ipynb\n",
    "\n",
    "> __*Gurbaaz Singh Nandra (190349)*__"
   ]
  },
  {
   "cell_type": "markdown",
   "id": "696f0b63",
   "metadata": {},
   "source": [
    "## Necessary Imports"
   ]
  },
  {
   "cell_type": "code",
   "execution_count": 1,
   "id": "7727214c",
   "metadata": {},
   "outputs": [],
   "source": [
    "import math\n",
    "from typing import Tuple, List\n",
    "import numpy as np\n",
    "from PIL import Image"
   ]
  },
  {
   "cell_type": "markdown",
   "id": "a57b794c",
   "metadata": {},
   "source": [
    "## Reading Images"
   ]
  },
  {
   "cell_type": "markdown",
   "id": "9dd7df1b",
   "metadata": {},
   "source": [
    "We can use pillow to open and read an image"
   ]
  },
  {
   "cell_type": "code",
   "execution_count": 2,
   "id": "3994f941",
   "metadata": {},
   "outputs": [],
   "source": [
    "Image.open(\"1.jpg\").show()"
   ]
  },
  {
   "cell_type": "markdown",
   "id": "1ee5479d",
   "metadata": {},
   "source": [
    "Ultimately, we are interested in reading all three images into some form of matrices to analyse them. So let us quickly store all three images in `imgs` list"
   ]
  },
  {
   "cell_type": "code",
   "execution_count": 3,
   "id": "ea70cb59",
   "metadata": {},
   "outputs": [],
   "source": [
    "imgs = [np.array(Image.open(f\"{i+1}.jpg\")) for i in range(3)]"
   ]
  },
  {
   "cell_type": "markdown",
   "id": "03a97513",
   "metadata": {},
   "source": [
    "Let us see shape of all three images, and verify if they are same, as for unequal sized images, we would need to bring them down to same dimensions for easier analysis."
   ]
  },
  {
   "cell_type": "code",
   "execution_count": 4,
   "id": "0157af19",
   "metadata": {},
   "outputs": [
    {
     "name": "stdout",
     "output_type": "stream",
     "text": [
      "(626, 940, 3)\n",
      "(626, 940, 3)\n",
      "(626, 940, 3)\n"
     ]
    }
   ],
   "source": [
    "for img in imgs:\n",
    "    print(img.shape)"
   ]
  },
  {
   "cell_type": "markdown",
   "id": "693c30dd",
   "metadata": {},
   "source": [
    "Indeed, all three images have same dimensions."
   ]
  },
  {
   "cell_type": "markdown",
   "id": "41273782",
   "metadata": {},
   "source": [
    "## Analysis"
   ]
  },
  {
   "cell_type": "markdown",
   "id": "a894096e",
   "metadata": {},
   "source": [
    "Firstly, we would need to identify the location of cyclone cores, which are identified as red in the images. Similarly, we would need to find location of cities and islands, identified as green and blue respectively. Hence the best way to go is to construct a function which identifies if the pixel is red, blue or green"
   ]
  },
  {
   "cell_type": "code",
   "execution_count": 5,
   "id": "632dfd22",
   "metadata": {},
   "outputs": [],
   "source": [
    "def is_color(pixel: Tuple, color: str) -> bool:\n",
    "    r, g, b = pixel\n",
    "\n",
    "    if color == \"R\":\n",
    "        # return (r != 0) and (g == 0) and (b == 0)\n",
    "        return (r > 240) and (g < 50) and (b < 50)\n",
    "\n",
    "    if color == \"G\":\n",
    "        return (g > 240) and (r < 50) and (b < 50)\n",
    "\n",
    "    if color == \"B\":\n",
    "        return (b > 230) and (r < 50) and (g < 50)"
   ]
  },
  {
   "cell_type": "markdown",
   "id": "6fdaeb03",
   "metadata": {},
   "source": [
    "Note that we are not equating the `rgb` of a pixel to extremes of the color, e.g., for red (255, 0, 0) since that would be a very strict filter and some color pixel may not actually satsfy that criteria, hence we are doing a loose criteria of checking if the dominant color channel > 240 and rest are < 50.\n",
    "\n",
    "That being said, now we need to iterate over entire image one by one and collect those points."
   ]
  },
  {
   "cell_type": "code",
   "execution_count": 6,
   "id": "0e59d3b5",
   "metadata": {},
   "outputs": [],
   "source": [
    "def find_color_dots(A: np.ndarray, color: str) -> List[Tuple]:\n",
    "    assert color == \"R\" or color == \"G\" or color == \"B\"\n",
    "\n",
    "    color_dots = []\n",
    "\n",
    "    m, n, _ = A.shape\n",
    "\n",
    "    for i in range(m):\n",
    "        for j in range(n):\n",
    "            pixel = A[(i, j)]\n",
    "\n",
    "            if is_color(pixel, color):\n",
    "                color_dots.append((i, j))\n",
    "\n",
    "    return color_dots"
   ]
  },
  {
   "cell_type": "markdown",
   "id": "a86358c1",
   "metadata": {},
   "source": [
    "For red dots, the process would look like"
   ]
  },
  {
   "cell_type": "code",
   "execution_count": 7,
   "id": "f53afc1d",
   "metadata": {},
   "outputs": [
    {
     "data": {
      "text/plain": [
       "[[(113, 237),\n",
       "  (113, 238),\n",
       "  (113, 239),\n",
       "  (113, 240),\n",
       "  (114, 237),\n",
       "  (114, 238),\n",
       "  (114, 239),\n",
       "  (114, 240),\n",
       "  (179, 547),\n",
       "  (180, 548),\n",
       "  (181, 545),\n",
       "  (181, 548),\n",
       "  (182, 546),\n",
       "  (182, 547)],\n",
       " [(121, 223),\n",
       "  (121, 224),\n",
       "  (122, 223),\n",
       "  (122, 224),\n",
       "  (187, 539),\n",
       "  (187, 540),\n",
       "  (188, 539),\n",
       "  (188, 540),\n",
       "  (189, 539),\n",
       "  (189, 540),\n",
       "  (190, 539),\n",
       "  (190, 540)],\n",
       " [(133, 215),\n",
       "  (133, 216),\n",
       "  (133, 217),\n",
       "  (133, 218),\n",
       "  (134, 215),\n",
       "  (134, 216),\n",
       "  (134, 217),\n",
       "  (134, 218),\n",
       "  (195, 527),\n",
       "  (195, 528),\n",
       "  (195, 529),\n",
       "  (195, 530),\n",
       "  (196, 527),\n",
       "  (196, 528),\n",
       "  (196, 529),\n",
       "  (196, 530)]]"
      ]
     },
     "execution_count": 7,
     "metadata": {},
     "output_type": "execute_result"
    }
   ],
   "source": [
    "red_dots = []\n",
    "\n",
    "for img in imgs:\n",
    "    red_dots.append(find_color_dots(img, \"R\"))\n",
    "    \n",
    "red_dots"
   ]
  },
  {
   "cell_type": "markdown",
   "id": "f9714486",
   "metadata": {},
   "source": [
    "Wait! We were hoping to find only two red dots per image, but we are getting way many points in return. This is because even a point on image does not necessarily constitute to a pixel, but actually it contains a collection of pixels, forming a tiny patch on the image. But we need to associate only one pixel coordinate for a dot for purpose of easiness. One way to go about that would be to find average of the coordinate of pixels forming a patch. "
   ]
  },
  {
   "cell_type": "code",
   "execution_count": 8,
   "id": "822d89df",
   "metadata": {},
   "outputs": [],
   "source": [
    "def average_sum_list(A: List[Tuple]) -> List:\n",
    "    result = []\n",
    "\n",
    "    for j in range(len(A[0])):\n",
    "\n",
    "        temp = 0\n",
    "\n",
    "        for i in range(len(A)):\n",
    "            temp += A[i][j]\n",
    "\n",
    "        result.append(temp // len(A))\n",
    "\n",
    "    return result\n",
    "\n",
    "\n",
    "def average_dots(A: List[Tuple]) -> List[Tuple]:\n",
    "    threshold = 10\n",
    "\n",
    "    if len(A) == 0:\n",
    "        return []\n",
    "\n",
    "    avg_dots = []\n",
    "\n",
    "    temp_dots = []\n",
    "    temp_dots.append(A[0])\n",
    "\n",
    "    i = 1\n",
    "\n",
    "    while i < len(A):\n",
    "\n",
    "        x, y = temp_dots[0]\n",
    "\n",
    "        if abs(x - A[i][0]) < threshold and abs(y - A[i][1]) < threshold:\n",
    "            temp_dots.append(A[i])\n",
    "\n",
    "        else:\n",
    "            avg_dots.append(average_sum_list(temp_dots))\n",
    "            temp_dots = []\n",
    "\n",
    "            if i != len(A) - 1:\n",
    "                temp_dots.append(A[i + 1])\n",
    "                i += 1\n",
    "\n",
    "        i += 1\n",
    "\n",
    "    if len(temp_dots) != 0:\n",
    "        avg_dots.append(average_sum_list(temp_dots))\n",
    "\n",
    "    return avg_dots"
   ]
  },
  {
   "cell_type": "markdown",
   "id": "ec99df74",
   "metadata": {},
   "source": [
    "Here we have kept a `threshold` of 10 pixel distance to find neighbouring points.\n",
    "\n",
    "Let us now find our new `red_dots`."
   ]
  },
  {
   "cell_type": "code",
   "execution_count": 9,
   "id": "f724b010",
   "metadata": {},
   "outputs": [
    {
     "data": {
      "text/plain": [
       "[[[113, 238], [181, 546]], [[121, 223], [188, 539]], [[133, 216], [195, 528]]]"
      ]
     },
     "execution_count": 9,
     "metadata": {},
     "output_type": "execute_result"
    }
   ],
   "source": [
    "red_dots = []\n",
    "\n",
    "for img in imgs:\n",
    "    red_dots.append(average_dots(find_color_dots(img, \"R\")))\n",
    "\n",
    "red_dots"
   ]
  },
  {
   "cell_type": "markdown",
   "id": "496bcd37",
   "metadata": {},
   "source": [
    "Good, now we have the required points for cyclone cores. We can now find positions of cities in green and islands in blue too."
   ]
  },
  {
   "cell_type": "code",
   "execution_count": 15,
   "id": "3fda12a3",
   "metadata": {},
   "outputs": [
    {
     "data": {
      "text/plain": [
       "([[267, 200], [436, 139], [617, 94]], [[475, 415], [498, 362]])"
      ]
     },
     "execution_count": 15,
     "metadata": {},
     "output_type": "execute_result"
    }
   ],
   "source": [
    "green_dots = average_dots(find_color_dots(imgs[0], \"G\"))\n",
    "blue_dots = average_dots(find_color_dots(imgs[0], \"B\"))\n",
    "\n",
    "green_dots, blue_dots"
   ]
  },
  {
   "cell_type": "markdown",
   "id": "eebaa080",
   "metadata": {},
   "source": [
    "It would be cool if we are able to visualise all three positions of each cyclone core over time to see its trajectory. "
   ]
  },
  {
   "cell_type": "code",
   "execution_count": 16,
   "id": "271c6146",
   "metadata": {},
   "outputs": [],
   "source": [
    "ni = np.copy(imgs[0]) # ni: new image"
   ]
  },
  {
   "cell_type": "code",
   "execution_count": 17,
   "id": "e04bd920",
   "metadata": {},
   "outputs": [],
   "source": [
    "def draw_circle(A: np.ndarray, center: Tuple, radius: int, color: Tuple) -> np.ndarray:\n",
    "    x0, y0 = center\n",
    "\n",
    "    for i in range(x0 - radius, x0 + radius):\n",
    "        for j in range(y0 - radius, y0 + radius):\n",
    "            if (i - x0) ** 2 + (j - y0) ** 2 <= radius**2:\n",
    "                A[(i, j)] = color\n",
    "\n",
    "    return A"
   ]
  },
  {
   "cell_type": "code",
   "execution_count": 18,
   "id": "96d95d86",
   "metadata": {},
   "outputs": [],
   "source": [
    "for i in red_dots:\n",
    "    for j in i:\n",
    "        ni = draw_circle(ni, tuple(j), 3, (255, 0, 0))\n",
    "\n",
    "Image.fromarray(ni, 'RGB').show()"
   ]
  },
  {
   "cell_type": "markdown",
   "id": "71d38cbb",
   "metadata": {},
   "source": [
    "We can see that cores of both of the cyclones are moving in a non-linear path, but from the problem statement, we know that as cyclones approach land, their inertia increases and they continue along the same route. Hence we can make this assumption and assume that from here cyclones would be moving in a straight path.\n",
    "\n",
    "For this, we need to only consider the trajectory as extrapolated from last two points of the image. All we need to do is find equations of line for trajectory of both cyclones and find their point of intersection, which is the apojuncture. To find if they would actually collide, we would need to check if their times of reaching that apojuncture point (`time = velocity / distance`) is same. "
   ]
  },
  {
   "cell_type": "code",
   "execution_count": 19,
   "id": "5f4a84c0",
   "metadata": {},
   "outputs": [],
   "source": [
    "def distance(a: Tuple, b: Tuple) -> float:\n",
    "    return np.sqrt((a[0] - b[0]) ** 2 + (a[1] - b[1]) ** 2)\n",
    "\n",
    "\n",
    "def velocity(a: Tuple, b: Tuple, time: int) -> float:\n",
    "    return distance(a, b) / time"
   ]
  },
  {
   "cell_type": "code",
   "execution_count": 20,
   "id": "d466400c",
   "metadata": {},
   "outputs": [],
   "source": [
    "def find_line(c: Tuple, p: Tuple) -> Tuple:\n",
    "    m = (c[1] - p[1]) / (c[0] - p[0])\n",
    "    c = p[1] - m * p[0]\n",
    "    return (m, c)\n",
    "\n",
    "\n",
    "def satisfy_line(theta: Tuple, p: Tuple) -> bool:\n",
    "    return abs((theta[1] + theta[0] * p[0]) - p[1]) <= 1"
   ]
  },
  {
   "cell_type": "code",
   "execution_count": 21,
   "id": "343dc573",
   "metadata": {},
   "outputs": [],
   "source": [
    "m1, c1, m2, c2 = *find_line(red_dots[2][0], red_dots[1][0]), *find_line(red_dots[2][1], red_dots[1][1])"
   ]
  },
  {
   "cell_type": "code",
   "execution_count": 22,
   "id": "053607b4",
   "metadata": {},
   "outputs": [
    {
     "data": {
      "text/plain": [
       "(547, -25)"
      ]
     },
     "execution_count": 22,
     "metadata": {},
     "output_type": "execute_result"
    }
   ],
   "source": [
    "point_of_intersection = int((c2 - c1) / (m1 - m2)), int((m1 * c2 - m2 * c1) / (m1 - m2))\n",
    "\n",
    "point_of_intersection"
   ]
  },
  {
   "cell_type": "markdown",
   "id": "89b1b8e9",
   "metadata": {},
   "source": [
    "We can see that the point of intersection is outside the image coordinates, which is perfectly possible.\n",
    "\n",
    "Let us plot the trajectories on the image and visualise it"
   ]
  },
  {
   "cell_type": "code",
   "execution_count": 23,
   "id": "bb938d42",
   "metadata": {},
   "outputs": [],
   "source": [
    "for m_c in [(m1, c1), (m2, c2)]:\n",
    "    for i in range(ni.shape[0]):\n",
    "        for j in range(ni.shape[1]):\n",
    "            if satisfy_line(m_c, (i, j)):\n",
    "                ni[(i, j)] = (165, 42, 42)"
   ]
  },
  {
   "cell_type": "code",
   "execution_count": 24,
   "id": "180e2fcb",
   "metadata": {},
   "outputs": [],
   "source": [
    "Image.fromarray(ni, 'RGB').show()"
   ]
  },
  {
   "cell_type": "markdown",
   "id": "a767dccd",
   "metadata": {},
   "source": [
    "To answer the first part of the question `How far (in Km) the apojuncture will be from the capital city?`, we need to translate the pixel distance to kilometeres. \n",
    "\n",
    "We have been provided that `The islands of Reunion and Mauritius (blue) areseparated by 250 kilometres to its east` and `Madagascar is located on an island in the Indian Ocean. It stretches 1500 kilometres from\n",
    "north Antsiranana (green) to south Benonoka (green)`. Using both these information, let us find km to pixel ratio."
   ]
  },
  {
   "cell_type": "code",
   "execution_count": 25,
   "id": "1b59e063",
   "metadata": {},
   "outputs": [
    {
     "data": {
      "text/plain": [
       "(0.23110170921046863, 0.11978128215858919)"
      ]
     },
     "execution_count": 25,
     "metadata": {},
     "output_type": "execute_result"
    }
   ],
   "source": [
    "(distance(blue_dots[0], blue_dots[1]) / 250), (distance(green_dots[0], green_dots[1]) / 1500) "
   ]
  },
  {
   "cell_type": "markdown",
   "id": "a53f78ae",
   "metadata": {},
   "source": [
    "Surpirsingly, both these ratios are not same! This is because the satellite image is not a flat image, but rather a distorted one. The main point of capture would have been the middle point of line joining the cyclone cores (call it `X`). To simply the distortion, we can use the pixel to km ratio obtained from green dots for the part of image on left of X, and the ratio obtained from blue dots for the right part. Thus, to find actual distance of apojuncture from Ambali Cyclone, we would need to use both of the ratios for the relavant part of its trajectory. Wheras, for Cyclone Belna, the ratio obtained from green dots would solely be used to find actual distance from apojuncture."
   ]
  },
  {
   "cell_type": "code",
   "execution_count": 26,
   "id": "5bc3b6ba",
   "metadata": {},
   "outputs": [],
   "source": [
    "def mid_point(a: Tuple, b: Tuple) -> Tuple:\n",
    "    return ((a[0] + b[0]) // 2, (a[1] + b[1]) // 2)"
   ]
  },
  {
   "cell_type": "code",
   "execution_count": 27,
   "id": "bd14bb75",
   "metadata": {},
   "outputs": [
    {
     "data": {
      "text/plain": [
       "(164, 372)"
      ]
     },
     "execution_count": 27,
     "metadata": {},
     "output_type": "execute_result"
    }
   ],
   "source": [
    "X = mid_point(red_dots[2][0], red_dots[2][1])\n",
    "\n",
    "X"
   ]
  },
  {
   "cell_type": "markdown",
   "id": "9a65bb12",
   "metadata": {},
   "source": [
    "Equation of such a line would simply be `x = X[1]`"
   ]
  },
  {
   "cell_type": "code",
   "execution_count": 28,
   "id": "09ecfb50",
   "metadata": {},
   "outputs": [],
   "source": [
    "for i in range(ni.shape[0]):\n",
    "    for j in range(ni.shape[1]):\n",
    "        if j == X[1]:\n",
    "            ni[(i, j)] = (255, 255, 255)"
   ]
  },
  {
   "cell_type": "code",
   "execution_count": 29,
   "id": "163665d8",
   "metadata": {},
   "outputs": [],
   "source": [
    "Image.fromarray(ni, 'RGB').show()"
   ]
  },
  {
   "cell_type": "markdown",
   "id": "229c99f5",
   "metadata": {},
   "source": [
    "Now we are in a position to find the distances of cyclone cores from apojuncture in kilometers.\n",
    "\n",
    "Let the point of intersection of vertical line dividing image in two parts and trajectory of cyclone Ambali be `Y`"
   ]
  },
  {
   "cell_type": "code",
   "execution_count": 30,
   "id": "7a0b75c9",
   "metadata": {},
   "outputs": [],
   "source": [
    "r1, r2 = (250 / distance(blue_dots[0], blue_dots[1])), (1500 / distance(green_dots[0], green_dots[1])) "
   ]
  },
  {
   "cell_type": "code",
   "execution_count": 31,
   "id": "88910c74",
   "metadata": {},
   "outputs": [
    {
     "data": {
      "text/plain": [
       "3999.269069268583"
      ]
     },
     "execution_count": 31,
     "metadata": {},
     "output_type": "execute_result"
    }
   ],
   "source": [
    "dist_belna = distance(point_of_intersection, red_dots[2][0]) * r2\n",
    "\n",
    "dist_belna"
   ]
  },
  {
   "cell_type": "code",
   "execution_count": 32,
   "id": "cd9f01f1",
   "metadata": {},
   "outputs": [
    {
     "data": {
      "text/plain": [
       "4143.966436752325"
      ]
     },
     "execution_count": 32,
     "metadata": {},
     "output_type": "execute_result"
    }
   ],
   "source": [
    "Y = (X[1], int(m2 * X[1] + c2))\n",
    "\n",
    "dist_ambali = distance(point_of_intersection, Y) * r2 + distance(Y, red_dots[2][1]) * r1\n",
    "\n",
    "dist_ambali"
   ]
  },
  {
   "cell_type": "markdown",
   "id": "9a1eca20",
   "metadata": {},
   "source": [
    "#### Q1. How far (in Km) the apojuncture will be from the capital city?"
   ]
  },
  {
   "cell_type": "code",
   "execution_count": 33,
   "id": "2d4d380f",
   "metadata": {},
   "outputs": [
    {
     "data": {
      "text/plain": [
       "'1152.6139808757434 km'"
      ]
     },
     "execution_count": 33,
     "metadata": {},
     "output_type": "execute_result"
    }
   ],
   "source": [
    "## Let the answer be ans_1\n",
    "\n",
    "ans_1 = distance(point_of_intersection, green_dots[2]) * r2\n",
    "\n",
    "str(ans_1) + \" km\""
   ]
  },
  {
   "cell_type": "markdown",
   "id": "1a0da92f",
   "metadata": {},
   "source": [
    "#### Q2.  When will it occur (how many hours after the last satellite image capture)?"
   ]
  },
  {
   "cell_type": "code",
   "execution_count": 34,
   "id": "e856e0df",
   "metadata": {},
   "outputs": [
    {
     "data": {
      "text/plain": [
       "(2.1087592832980593, 1.0257903606755068)"
      ]
     },
     "execution_count": 34,
     "metadata": {},
     "output_type": "execute_result"
    }
   ],
   "source": [
    "## Let the answer be ans_2\n",
    "\n",
    "## We should also note the timestamps between image here, to compute the speed of cyclone cores, which would be \n",
    "## assumed constant from here\n",
    "\n",
    "velocity_belna = velocity(red_dots[1][0], red_dots[2][0], 55) * r2 ## 55 = 15:39 - 14:44 \n",
    "velocity_ambali = velocity(red_dots[1][1], red_dots[2][1], 55) * r1\n",
    "\n",
    "velocity_belna, velocity_ambali"
   ]
  },
  {
   "cell_type": "code",
   "execution_count": 35,
   "id": "11dbc26d",
   "metadata": {},
   "outputs": [
    {
     "data": {
      "text/plain": [
       "(1896.5033614523334, 4039.779077299407)"
      ]
     },
     "execution_count": 35,
     "metadata": {},
     "output_type": "execute_result"
    }
   ],
   "source": [
    "## As time of both the cyclone cores reaching the apojuncture could be different, we need to calculate time\n",
    "## taken by both cyclones\n",
    "\n",
    "time_belna = dist_belna / velocity_belna\n",
    "time_ambali = dist_ambali / velocity_ambali\n",
    "\n",
    "time_belna, time_ambali"
   ]
  },
  {
   "cell_type": "markdown",
   "id": "7111ce88",
   "metadata": {},
   "source": [
    "#### Q3. Will they actually collide in reality?"
   ]
  },
  {
   "cell_type": "markdown",
   "id": "56ed4076",
   "metadata": {},
   "source": [
    "Nope, since even if we make these heavy assumptions of cyclone cores moving in straight path with constant speed right after 15:39 hours, they would meet at apojuncture times owing to their different time taken (time = speed / distance ratio). Furthermore, the actual trajectories of these cyclones are far more complicated, and they did not even collide in real life, as cyclone ambali died out gradually way before meeting cyclone belna."
   ]
  }
 ],
 "metadata": {
  "kernelspec": {
   "display_name": "Python 3 (ipykernel)",
   "language": "python",
   "name": "python3"
  },
  "language_info": {
   "codemirror_mode": {
    "name": "ipython",
    "version": 3
   },
   "file_extension": ".py",
   "mimetype": "text/x-python",
   "name": "python",
   "nbconvert_exporter": "python",
   "pygments_lexer": "ipython3",
   "version": "3.10.4"
  }
 },
 "nbformat": 4,
 "nbformat_minor": 5
}
