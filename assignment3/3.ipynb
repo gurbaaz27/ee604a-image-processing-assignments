{
 "cells": [
  {
   "cell_type": "code",
   "execution_count": 179,
   "metadata": {},
   "outputs": [],
   "source": [
    "import numpy as np \n",
    "import cv2 \n",
    "import matplotlib.pyplot as plt "
   ]
  },
  {
   "cell_type": "code",
   "execution_count": 180,
   "metadata": {},
   "outputs": [
    {
     "name": "stdout",
     "output_type": "stream",
     "text": [
      "(622, 960)\n",
      "(156, 240)\n",
      "(156, 240)\n",
      "(622, 960)\n",
      "(622, 960)\n"
     ]
    }
   ],
   "source": [
    "Y = cv2.imread('Y.JPG',0)\n",
    "cb = cv2.imread('Cb4.JPG',0)\n",
    "cr = cv2.imread('Cr4.JPG',0)\n",
    "Y=np.asarray(Y).astype(float)\n",
    "cb=np.asarray(cb).astype(float)\n",
    "cr=np.asarray(cr).astype(float)\n",
    "cbu=cv2.resize(cb,(np.shape(Y)[1],np.shape(Y)[0])).astype(float)\n",
    "cru=cv2.resize(cr,(np.shape(Y)[1],np.shape(Y)[0])).astype(float)\n",
    "print(np.shape(Y))\n",
    "print(np.shape(cb))\n",
    "print(np.shape(cr))\n",
    "print(np.shape(cbu))\n",
    "print(np.shape(cru))"
   ]
  },
  {
   "cell_type": "code",
   "execution_count": 181,
   "metadata": {},
   "outputs": [],
   "source": [
    "def gaussianKernel(size_x,size_y, sigma_x,sigma_y,sampling_rate):\n",
    "    if size_x%2==0 or size_y%2==0:\n",
    "        print('Error: Kernel dimensions can only be odd')\n",
    "        return\n",
    "    center_x,center_y=size_x//2,size_y//2\n",
    "    kernel =  np.fromfunction(lambda i, j:  np.exp(-((((i-center_x)/(sigma_x*sampling_rate))**2)/2+(((j-center_y)/(sigma_y*sampling_rate))**2)/2)), (size_x, size_y))\n",
    "    return kernel "
   ]
  },
  {
   "cell_type": "code",
   "execution_count": 187,
   "metadata": {},
   "outputs": [
    {
     "name": "stdout",
     "output_type": "stream",
     "text": [
      "[[0.03980033 0.03994986 0.03999983 0.03994986 0.03980033]\n",
      " [0.03994986 0.04009995 0.04015011 0.04009995 0.03994986]\n",
      " [0.03999983 0.04015011 0.04020032 0.04015011 0.03999983]\n",
      " [0.03994986 0.04009995 0.04015011 0.04009995 0.03994986]\n",
      " [0.03980033 0.03994986 0.03999983 0.03994986 0.03980033]]\n"
     ]
    }
   ],
   "source": [
    "kernel=gaussianKernel(5,5,5,5,4)"
   ]
  },
  {
   "cell_type": "code",
   "execution_count": 183,
   "metadata": {},
   "outputs": [],
   "source": [
    "out_b=np.zeros((np.shape(Y)))\n",
    "out_r=np.zeros((np.shape(Y)))\n",
    "kernel_x,kernel_y=np.shape(kernel)\n",
    "Y_pad=np.pad(Y,((kernel_x//2,kernel_x//2),(kernel_y//2,kernel_y//2)))\n",
    "cbu_pad=np.pad(cbu,((kernel_x//2,kernel_x//2),(kernel_y//2,kernel_y//2)))\n",
    "cru_pad=np.pad(cru,((kernel_x//2,kernel_x//2),(kernel_y//2,kernel_y//2)))\n",
    "dim_x,dim_y=np.shape(Y)\n",
    "range_sigma=5\n",
    "for i in range(dim_x):\n",
    "    for j in range(dim_y):\n",
    "        center_x,center_y=(2*i+kernel_x)//2,(2*j+kernel_y)//2        \n",
    "        range_kernel=np.exp(-0.5*((Y_pad[i:i+kernel_x,j:j+kernel_y]-Y_pad[center_x,center_y])/range_sigma)**2)\n",
    "        final_kernel=range_kernel*kernel\n",
    "        final_kernel=final_kernel/np.sum(final_kernel)\n",
    "        out_b[i,j]=np.sum(cbu_pad[i:i+kernel_x,j:j+kernel_y]*final_kernel)\n",
    "        out_r[i,j]=np.sum(cru_pad[i:i+kernel_x,j:j+kernel_y]*final_kernel)"
   ]
  },
  {
   "cell_type": "code",
   "execution_count": 184,
   "metadata": {},
   "outputs": [
    {
     "data": {
      "text/plain": [
       "True"
      ]
     },
     "execution_count": 184,
     "metadata": {},
     "output_type": "execute_result"
    }
   ],
   "source": [
    "final_img_YCbCr=np.array([Y,out_r,out_b]).astype(np.uint8).transpose(1,2,0)\n",
    "final_img_bgr = cv2.cvtColor(final_img_YCbCr, cv2.COLOR_YCrCb2BGR)\n",
    "cv2.imwrite('daddu.jpg',final_img_bgr)"
   ]
  }
 ],
 "metadata": {
  "kernelspec": {
   "display_name": "Python 3.10.6 ('venv')",
   "language": "python",
   "name": "python3"
  },
  "language_info": {
   "codemirror_mode": {
    "name": "ipython",
    "version": 3
   },
   "file_extension": ".py",
   "mimetype": "text/x-python",
   "name": "python",
   "nbconvert_exporter": "python",
   "pygments_lexer": "ipython3",
   "version": "3.10.6"
  },
  "orig_nbformat": 4,
  "vscode": {
   "interpreter": {
    "hash": "2c6446c4b9e37442a9e7d4d7dc921a2a2c84ad3071757d27b8facdca274f6536"
   }
  }
 },
 "nbformat": 4,
 "nbformat_minor": 2
}
